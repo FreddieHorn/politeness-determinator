{
 "cells": [
  {
   "cell_type": "code",
   "execution_count": 1,
   "id": "794e0128",
   "metadata": {},
   "outputs": [],
   "source": [
    "import pandas as pd\n",
    "import numpy as np\n",
    "import re, string\n",
    "import nltk\n",
    "from nltk.tokenize import word_tokenize\n",
    "from nltk.corpus import stopwords\n",
    "from nltk.stem import SnowballStemmer\n",
    "from nltk.corpus import wordnet\n",
    "from nltk.stem import WordNetLemmatizer\n",
    "import matplotlib.pyplot as plt\n",
    "\n",
    "from sklearn.model_selection import train_test_split\n",
    "from sklearn.linear_model import LogisticRegression\n",
    "from sklearn.naive_bayes import MultinomialNB\n",
    "from sklearn.metrics import classification_report, f1_score, accuracy_score, confusion_matrix\n",
    "from sklearn.metrics import roc_curve, auc, roc_auc_score\n",
    "\n",
    "from sklearn.feature_extraction.text import TfidfVectorizer\n",
    "from sklearn.feature_extraction.text import CountVectorizer\n",
    "#for word embedding\n",
    "import gensim\n",
    "from gensim.models import Word2Vec"
   ]
  },
  {
   "cell_type": "code",
   "execution_count": 2,
   "id": "fd090bb7",
   "metadata": {},
   "outputs": [],
   "source": [
    "add = \"ruddit_with_text.csv\"\n",
    "\n",
    "raw = pd.read_csv(add)"
   ]
  },
  {
   "cell_type": "code",
   "execution_count": 3,
   "id": "bb501386",
   "metadata": {},
   "outputs": [
    {
     "data": {
      "text/plain": [
       "Index(['Unnamed: 0', 'comment_id', 'post_id', 'offensiveness_score',\n",
       "       'post_title', 'comment_body'],\n",
       "      dtype='object')"
      ]
     },
     "execution_count": 3,
     "metadata": {},
     "output_type": "execute_result"
    }
   ],
   "source": [
    "raw.columns"
   ]
  },
  {
   "cell_type": "code",
   "execution_count": 6,
   "id": "bd0558f1",
   "metadata": {},
   "outputs": [
    {
     "data": {
      "text/html": [
       "<div>\n",
       "<style scoped>\n",
       "    .dataframe tbody tr th:only-of-type {\n",
       "        vertical-align: middle;\n",
       "    }\n",
       "\n",
       "    .dataframe tbody tr th {\n",
       "        vertical-align: top;\n",
       "    }\n",
       "\n",
       "    .dataframe thead th {\n",
       "        text-align: right;\n",
       "    }\n",
       "</style>\n",
       "<table border=\"1\" class=\"dataframe\">\n",
       "  <thead>\n",
       "    <tr style=\"text-align: right;\">\n",
       "      <th></th>\n",
       "      <th>Unnamed: 0</th>\n",
       "      <th>comment_id</th>\n",
       "      <th>post_id</th>\n",
       "      <th>offensiveness_score</th>\n",
       "      <th>post_title</th>\n",
       "      <th>comment_body</th>\n",
       "    </tr>\n",
       "  </thead>\n",
       "  <tbody>\n",
       "    <tr>\n",
       "      <th>0</th>\n",
       "      <td>0</td>\n",
       "      <td>cza1q49</td>\n",
       "      <td>42g75o</td>\n",
       "      <td>-0.083</td>\n",
       "      <td>CMV: The so called \"Wage Gap\" is a myth.</td>\n",
       "      <td>&gt; The difference in average earnings between m...</td>\n",
       "    </tr>\n",
       "    <tr>\n",
       "      <th>1</th>\n",
       "      <td>1</td>\n",
       "      <td>cza1wdh</td>\n",
       "      <td>42g75o</td>\n",
       "      <td>-0.022</td>\n",
       "      <td>CMV: The so called \"Wage Gap\" is a myth.</td>\n",
       "      <td>The myth is that the \"gap\" is entirely based o...</td>\n",
       "    </tr>\n",
       "    <tr>\n",
       "      <th>2</th>\n",
       "      <td>2</td>\n",
       "      <td>cza23qx</td>\n",
       "      <td>42g75o</td>\n",
       "      <td>0.167</td>\n",
       "      <td>CMV: The so called \"Wage Gap\" is a myth.</td>\n",
       "      <td>[deleted]</td>\n",
       "    </tr>\n",
       "    <tr>\n",
       "      <th>3</th>\n",
       "      <td>3</td>\n",
       "      <td>cza2bw8</td>\n",
       "      <td>42g75o</td>\n",
       "      <td>-0.146</td>\n",
       "      <td>CMV: The so called \"Wage Gap\" is a myth.</td>\n",
       "      <td>The assertion is that women get paid less for ...</td>\n",
       "    </tr>\n",
       "    <tr>\n",
       "      <th>4</th>\n",
       "      <td>4</td>\n",
       "      <td>cza2iji</td>\n",
       "      <td>42g75o</td>\n",
       "      <td>-0.083</td>\n",
       "      <td>CMV: The so called \"Wage Gap\" is a myth.</td>\n",
       "      <td>You said in the OP that's not what they're mea...</td>\n",
       "    </tr>\n",
       "    <tr>\n",
       "      <th>5</th>\n",
       "      <td>5</td>\n",
       "      <td>cza2jj3</td>\n",
       "      <td>42g75o</td>\n",
       "      <td>-0.042</td>\n",
       "      <td>CMV: The so called \"Wage Gap\" is a myth.</td>\n",
       "      <td>&gt;Men and women are not payed less for the same...</td>\n",
       "    </tr>\n",
       "    <tr>\n",
       "      <th>6</th>\n",
       "      <td>6</td>\n",
       "      <td>cza31e2</td>\n",
       "      <td>42g75o</td>\n",
       "      <td>-0.021</td>\n",
       "      <td>CMV: The so called \"Wage Gap\" is a myth.</td>\n",
       "      <td>&gt; All the wage gap is, is an average of total ...</td>\n",
       "    </tr>\n",
       "    <tr>\n",
       "      <th>7</th>\n",
       "      <td>7</td>\n",
       "      <td>cza321d</td>\n",
       "      <td>42g75o</td>\n",
       "      <td>-0.021</td>\n",
       "      <td>CMV: The so called \"Wage Gap\" is a myth.</td>\n",
       "      <td>[deleted]</td>\n",
       "    </tr>\n",
       "    <tr>\n",
       "      <th>8</th>\n",
       "      <td>8</td>\n",
       "      <td>cza336e</td>\n",
       "      <td>42g75o</td>\n",
       "      <td>0.208</td>\n",
       "      <td>CMV: The so called \"Wage Gap\" is a myth.</td>\n",
       "      <td>[deleted]</td>\n",
       "    </tr>\n",
       "    <tr>\n",
       "      <th>9</th>\n",
       "      <td>9</td>\n",
       "      <td>cza34dq</td>\n",
       "      <td>42g75o</td>\n",
       "      <td>-0.191</td>\n",
       "      <td>CMV: The so called \"Wage Gap\" is a myth.</td>\n",
       "      <td>[deleted]</td>\n",
       "    </tr>\n",
       "  </tbody>\n",
       "</table>\n",
       "</div>"
      ],
      "text/plain": [
       "   Unnamed: 0 comment_id post_id  offensiveness_score   \n",
       "0           0    cza1q49  42g75o               -0.083  \\\n",
       "1           1    cza1wdh  42g75o               -0.022   \n",
       "2           2    cza23qx  42g75o                0.167   \n",
       "3           3    cza2bw8  42g75o               -0.146   \n",
       "4           4    cza2iji  42g75o               -0.083   \n",
       "5           5    cza2jj3  42g75o               -0.042   \n",
       "6           6    cza31e2  42g75o               -0.021   \n",
       "7           7    cza321d  42g75o               -0.021   \n",
       "8           8    cza336e  42g75o                0.208   \n",
       "9           9    cza34dq  42g75o               -0.191   \n",
       "\n",
       "                                 post_title   \n",
       "0  CMV: The so called \"Wage Gap\" is a myth.  \\\n",
       "1  CMV: The so called \"Wage Gap\" is a myth.   \n",
       "2  CMV: The so called \"Wage Gap\" is a myth.   \n",
       "3  CMV: The so called \"Wage Gap\" is a myth.   \n",
       "4  CMV: The so called \"Wage Gap\" is a myth.   \n",
       "5  CMV: The so called \"Wage Gap\" is a myth.   \n",
       "6  CMV: The so called \"Wage Gap\" is a myth.   \n",
       "7  CMV: The so called \"Wage Gap\" is a myth.   \n",
       "8  CMV: The so called \"Wage Gap\" is a myth.   \n",
       "9  CMV: The so called \"Wage Gap\" is a myth.   \n",
       "\n",
       "                                        comment_body  \n",
       "0  > The difference in average earnings between m...  \n",
       "1  The myth is that the \"gap\" is entirely based o...  \n",
       "2                                          [deleted]  \n",
       "3  The assertion is that women get paid less for ...  \n",
       "4  You said in the OP that's not what they're mea...  \n",
       "5  >Men and women are not payed less for the same...  \n",
       "6  > All the wage gap is, is an average of total ...  \n",
       "7                                          [deleted]  \n",
       "8                                          [deleted]  \n",
       "9                                          [deleted]  "
      ]
     },
     "execution_count": 6,
     "metadata": {},
     "output_type": "execute_result"
    }
   ],
   "source": [
    "raw.head(10)"
   ]
  },
  {
   "cell_type": "code",
   "execution_count": 4,
   "id": "797fba25",
   "metadata": {},
   "outputs": [],
   "source": [
    "sliced = raw[raw['comment_body'] != '[deleted]']"
   ]
  },
  {
   "cell_type": "code",
   "execution_count": 5,
   "id": "64da3562",
   "metadata": {},
   "outputs": [
    {
     "data": {
      "text/plain": [
       "offensiveness_score\n",
       "-0.021    155\n",
       " 0.000    151\n",
       "-0.167    135\n",
       "-0.125    128\n",
       "-0.208    121\n",
       "         ... \n",
       "-0.787      1\n",
       " 0.696      1\n",
       "-0.696      1\n",
       " 0.644      1\n",
       " 0.578      1\n",
       "Name: count, Length: 288, dtype: int64"
      ]
     },
     "execution_count": 5,
     "metadata": {},
     "output_type": "execute_result"
    }
   ],
   "source": [
    "sliced['offensiveness_score'].value_counts()"
   ]
  },
  {
   "cell_type": "code",
   "execution_count": 51,
   "id": "547797a0",
   "metadata": {},
   "outputs": [
    {
     "data": {
      "image/png": "[encoded data removed]",
      "text/plain": [
       "<Figure size 720x360 with 1 Axes>"
      ]
     },
     "metadata": {
      "needs_background": "light"
     },
     "output_type": "display_data"
    }
   ],
   "source": [
    "\n",
    "fig = plt.figure(figsize = (10, 5))\n",
    "plt.bar(sliced['offensiveness_score'].value_counts().index, sliced['offensiveness_score'].value_counts().tolist(), color ='maroon',\n",
    "        width = 0.4)\n",
    " \n",
    "plt.xlabel(\"offensive acore\")\n",
    "plt.title(\"distribution of offensive scores in dataset\")\n",
    "plt.show()\n"
   ]
  },
  {
   "cell_type": "code",
   "execution_count": 37,
   "id": "72a458f9",
   "metadata": {},
   "outputs": [
    {
     "name": "stderr",
     "output_type": "stream",
     "text": [
      "/var/folders/j5/qvnvsrxj711dty0pr0v1h4kw0000gn/T/ipykernel_1060/2517675323.py:40: SettingWithCopyWarning: \n",
      "A value is trying to be set on a copy of a slice from a DataFrame.\n",
      "Try using .loc[row_indexer,col_indexer] = value instead\n",
      "\n",
      "See the caveats in the documentation: https://pandas.pydata.org/pandas-docs/stable/user_guide/indexing.html#returning-a-view-versus-a-copy\n",
      "  sliced['clean_text'] = sliced['comment_body'].apply(lambda x: finalpreprocess(x))\n"
     ]
    }
   ],
   "source": [
    "def preprocess(text):\n",
    "    text = text.lower() \n",
    "    text = text.strip()  \n",
    "    text = re.compile('<.*?>').sub('', text) \n",
    "    text = re.compile('[%s]' % re.escape(string.punctuation)).sub(' ', text)  \n",
    "    text = re.sub('\\s+', ' ', text)  \n",
    "    text = re.sub(r'\\[[0-9]*\\]',' ',text) \n",
    "    text = re.sub(r'[^\\w\\s]', '', str(text).lower().strip())\n",
    "    text = re.sub(r'\\d',' ',text) \n",
    "    text = re.sub(r'\\s+',' ',text) \n",
    "    return text\n",
    "\n",
    "def stopword(string):\n",
    "    a= [i for i in string.split() if i not in stopwords.words('english')]\n",
    "    return ' '.join(a)\n",
    "\n",
    "# Initialize the lemmatizer\n",
    "wl = WordNetLemmatizer()\n",
    " \n",
    "# This is a helper function to map NTLK position tags\n",
    "def get_wordnet_pos(tag):\n",
    "    if tag.startswith('J'):\n",
    "        return wordnet.ADJ\n",
    "    elif tag.startswith('V'):\n",
    "        return wordnet.VERB\n",
    "    elif tag.startswith('N'):\n",
    "        return wordnet.NOUN\n",
    "    elif tag.startswith('R'):\n",
    "        return wordnet.ADV\n",
    "    else:\n",
    "        return wordnet.NOUN\n",
    "# Tokenize the sentence\n",
    "def lemmatizer(string):\n",
    "    word_pos_tags = nltk.pos_tag(word_tokenize(string)) # Get position tags\n",
    "    a=[wl.lemmatize(tag[0], get_wordnet_pos(tag[1])) for idx, tag in enumerate(word_pos_tags)] # Map the position tag and lemmatize the word/token\n",
    "    return \" \".join(a)\n",
    "\n",
    "def finalpreprocess(string):\n",
    "    return lemmatizer(stopword(preprocess(string)))\n"
   ]
  },
  {
   "cell_type": "code",
   "execution_count": null,
   "id": "a724c526",
   "metadata": {},
   "outputs": [],
   "source": [
    "sliced['clean_text'] = sliced['comment_body'].apply(lambda x: finalpreprocess(x))"
   ]
  },
  {
   "cell_type": "code",
   "execution_count": 42,
   "id": "12912988",
   "metadata": {},
   "outputs": [],
   "source": [
    "#SPLITTING THE TRAINING DATASET INTO TRAIN AND TEST\n",
    "X_train, X_test, y_train, y_test = train_test_split(sliced[\"clean_text\"], sliced['offensiveness_score'],test_size=0.2,shuffle=True)\n"
   ]
  },
  {
   "cell_type": "code",
   "execution_count": 45,
   "id": "af04fa3d",
   "metadata": {},
   "outputs": [
    {
     "data": {
      "text/plain": [
       "-0.63"
      ]
     },
     "execution_count": 45,
     "metadata": {},
     "output_type": "execute_result"
    }
   ],
   "source": [
    "y_train.iloc[2]\n",
    "print(X_train[2])"
   ]
  },
  {
   "cell_type": "code",
   "execution_count": null,
   "id": "42715d82",
   "metadata": {},
   "outputs": [],
   "source": []
  }
 ],
 "metadata": {
  "kernelspec": {
   "display_name": "muzg",
   "language": "python",
   "name": "python3"
  },
  "language_info": {
   "codemirror_mode": {
    "name": "ipython",
    "version": 3
   },
   "file_extension": ".py",
   "mimetype": "text/x-python",
   "name": "python",
   "nbconvert_exporter": "python",
   "pygments_lexer": "ipython3",
   "version": "3.10.9"
  }
 },
 "nbformat": 4,
 "nbformat_minor": 5
}
